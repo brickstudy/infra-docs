{
 "cells": [
  {
   "cell_type": "code",
   "execution_count": 1,
   "id": "3744f215-2255-4aad-a2c7-b172505fa537",
   "metadata": {},
   "outputs": [
    {
     "name": "stdout",
     "output_type": "stream",
     "text": [
      "hello world\n"
     ]
    }
   ],
   "source": [
    "print(\"hello world\")"
   ]
  },
  {
   "cell_type": "code",
   "execution_count": 2,
   "id": "350b6b64-b396-40f7-b850-2158f8473a3e",
   "metadata": {},
   "outputs": [
    {
     "name": "stdout",
     "output_type": "stream",
     "text": [
      "+---------+--------+-------+---+\n",
      "|Firstname|Lastname|Country|Age|\n",
      "+---------+--------+-------+---+\n",
      "|    James|   Smith|    USA| 30|\n",
      "|  Michael|    Rose|    USA| 45|\n",
      "|   Robert|Williams|    USA| 15|\n",
      "|    Maria|   Jones|    USA| 25|\n",
      "+---------+--------+-------+---+\n",
      "\n",
      "+-------+---------+--------+-------+-----+\n",
      "|summary|Firstname|Lastname|Country|  Age|\n",
      "+-------+---------+--------+-------+-----+\n",
      "|  count|        4|       4|      4|    4|\n",
      "|   mean|     NULL|    NULL|   NULL|28.75|\n",
      "| stddev|     NULL|    NULL|   NULL| 12.5|\n",
      "|    min|    James|   Jones|    USA|   15|\n",
      "|    max|   Robert|Williams|    USA|   45|\n",
      "+-------+---------+--------+-------+-----+\n",
      "\n"
     ]
    }
   ],
   "source": [
    "from pyspark.sql import SparkSession\n",
    "\n",
    "# Spark 세션 생성\n",
    "spark = SparkSession.builder \\\n",
    "    .appName(\"My Spark Application\") \\\n",
    "    .getOrCreate()\n",
    "\n",
    "# 간단한 데이터 프레임 생성\n",
    "data = [(\"James\", \"Smith\", \"USA\", 30),\n",
    "        (\"Michael\", \"Rose\", \"USA\", 45),\n",
    "        (\"Robert\", \"Williams\", \"USA\", 15),\n",
    "        (\"Maria\", \"Jones\", \"USA\", 25)]\n",
    "\n",
    "columns = [\"Firstname\", \"Lastname\", \"Country\", \"Age\"]\n",
    "\n",
    "df = spark.createDataFrame(data, schema=columns)\n",
    "\n",
    "# 데이터 프레임 출력\n",
    "df.show()\n",
    "\n",
    "# 데이터 프레임의 기본 통계 요약\n",
    "df.describe().show()\n",
    "\n",
    "# Spark 세션 종료\n",
    "spark.stop()"
   ]
  },
  {
   "cell_type": "code",
   "execution_count": null,
   "id": "439045b0-8e55-4672-a553-34b18b09b538",
   "metadata": {},
   "outputs": [],
   "source": []
  }
 ],
 "metadata": {
  "kernelspec": {
   "display_name": "Python 3 (ipykernel)",
   "language": "python",
   "name": "python3"
  },
  "language_info": {
   "codemirror_mode": {
    "name": "ipython",
    "version": 3
   },
   "file_extension": ".py",
   "mimetype": "text/x-python",
   "name": "python",
   "nbconvert_exporter": "python",
   "pygments_lexer": "ipython3",
   "version": "3.11.6"
  }
 },
 "nbformat": 4,
 "nbformat_minor": 5
}
